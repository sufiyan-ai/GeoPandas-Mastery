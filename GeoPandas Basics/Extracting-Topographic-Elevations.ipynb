{
 "cells": [
  {
   "cell_type": "code",
   "execution_count": 29,
   "id": "93cf0e93-023f-48f8-8ccb-f01c5208b0e6",
   "metadata": {},
   "outputs": [],
   "source": [
    "import pandas as pd\n",
    "import geopandas as gpd\n",
    "import rasterio\n",
    "import warnings\n",
    "warnings.filterwarnings('ignore')"
   ]
  },
  {
   "cell_type": "code",
   "execution_count": 22,
   "id": "586574e5-c1b9-4287-8080-c84c82b82e15",
   "metadata": {},
   "outputs": [],
   "source": [
    "# Reading the 'Stations' shapefile\n",
    "stations=gpd.read_file(r'Extract Elevation from a DEM\\stations.shp')"
   ]
  },
  {
   "cell_type": "code",
   "execution_count": 23,
   "id": "41030bf5-19b4-4ee3-83d9-286ea5a6c2c5",
   "metadata": {},
   "outputs": [],
   "source": [
    "# Creating an empty column for elevation values\n",
    "stations['elevations']=0"
   ]
  },
  {
   "cell_type": "code",
   "execution_count": 24,
   "id": "dc71b41d-add5-4e31-8ed0-634573329ce2",
   "metadata": {},
   "outputs": [
    {
     "data": {
      "text/html": [
       "<div>\n",
       "<style scoped>\n",
       "    .dataframe tbody tr th:only-of-type {\n",
       "        vertical-align: middle;\n",
       "    }\n",
       "\n",
       "    .dataframe tbody tr th {\n",
       "        vertical-align: top;\n",
       "    }\n",
       "\n",
       "    .dataframe thead th {\n",
       "        text-align: right;\n",
       "    }\n",
       "</style>\n",
       "<table border=\"1\" class=\"dataframe\">\n",
       "  <thead>\n",
       "    <tr style=\"text-align: right;\">\n",
       "      <th></th>\n",
       "      <th>Id</th>\n",
       "      <th>name</th>\n",
       "      <th>geometry</th>\n",
       "      <th>elevations</th>\n",
       "    </tr>\n",
       "  </thead>\n",
       "  <tbody>\n",
       "    <tr>\n",
       "      <th>0</th>\n",
       "      <td>0</td>\n",
       "      <td>station1</td>\n",
       "      <td>POINT (116.66012 6.20102)</td>\n",
       "      <td>0</td>\n",
       "    </tr>\n",
       "    <tr>\n",
       "      <th>1</th>\n",
       "      <td>0</td>\n",
       "      <td>station2</td>\n",
       "      <td>POINT (116.86285 6.10965)</td>\n",
       "      <td>0</td>\n",
       "    </tr>\n",
       "    <tr>\n",
       "      <th>2</th>\n",
       "      <td>0</td>\n",
       "      <td>station3</td>\n",
       "      <td>POINT (117.12412 6.12821)</td>\n",
       "      <td>0</td>\n",
       "    </tr>\n",
       "    <tr>\n",
       "      <th>3</th>\n",
       "      <td>0</td>\n",
       "      <td>station4</td>\n",
       "      <td>POINT (117.29115 6.30524)</td>\n",
       "      <td>0</td>\n",
       "    </tr>\n",
       "    <tr>\n",
       "      <th>4</th>\n",
       "      <td>0</td>\n",
       "      <td>station5</td>\n",
       "      <td>POINT (116.91996 6.35664)</td>\n",
       "      <td>0</td>\n",
       "    </tr>\n",
       "    <tr>\n",
       "      <th>5</th>\n",
       "      <td>0</td>\n",
       "      <td>station6</td>\n",
       "      <td>POINT (117.03846 6.51511)</td>\n",
       "      <td>0</td>\n",
       "    </tr>\n",
       "    <tr>\n",
       "      <th>6</th>\n",
       "      <td>0</td>\n",
       "      <td>station7</td>\n",
       "      <td>POINT (116.85286 6.64931)</td>\n",
       "      <td>0</td>\n",
       "    </tr>\n",
       "    <tr>\n",
       "      <th>7</th>\n",
       "      <td>0</td>\n",
       "      <td>station8</td>\n",
       "      <td>POINT (116.68868 6.63646)</td>\n",
       "      <td>0</td>\n",
       "    </tr>\n",
       "    <tr>\n",
       "      <th>8</th>\n",
       "      <td>0</td>\n",
       "      <td>station9</td>\n",
       "      <td>POINT (117.28544 6.58078)</td>\n",
       "      <td>0</td>\n",
       "    </tr>\n",
       "  </tbody>\n",
       "</table>\n",
       "</div>"
      ],
      "text/plain": [
       "   Id      name                   geometry  elevations\n",
       "0   0  station1  POINT (116.66012 6.20102)           0\n",
       "1   0  station2  POINT (116.86285 6.10965)           0\n",
       "2   0  station3  POINT (117.12412 6.12821)           0\n",
       "3   0  station4  POINT (117.29115 6.30524)           0\n",
       "4   0  station5  POINT (116.91996 6.35664)           0\n",
       "5   0  station6  POINT (117.03846 6.51511)           0\n",
       "6   0  station7  POINT (116.85286 6.64931)           0\n",
       "7   0  station8  POINT (116.68868 6.63646)           0\n",
       "8   0  station9  POINT (117.28544 6.58078)           0"
      ]
     },
     "execution_count": 24,
     "metadata": {},
     "output_type": "execute_result"
    }
   ],
   "source": [
    "stations"
   ]
  },
  {
   "cell_type": "code",
   "execution_count": 25,
   "id": "c9b9c382-08f6-4fbb-87ba-c2219a756afb",
   "metadata": {},
   "outputs": [
    {
     "name": "stdout",
     "output_type": "stream",
     "text": [
      "The elevation of station1: 2570 meters\n",
      "The elevation of station2: 204 meters\n",
      "The elevation of station3: 191 meters\n",
      "The elevation of station4: 117 meters\n",
      "The elevation of station5: 774 meters\n",
      "The elevation of station6: 291 meters\n",
      "The elevation of station7: 49 meters\n",
      "The elevation of station8: 399 meters\n",
      "The elevation of station9: 82 meters\n"
     ]
    }
   ],
   "source": [
    "for index, row in stations.iterrows():\n",
    "    # Extracting attriburtes from the stations shapefile\n",
    "    name=row['name']\n",
    "    latitude=row['geometry'].y\n",
    "    longitude=row['geometry'].x\n",
    "    \n",
    "    # Reading the DEM using rasterio \n",
    "    dem=rasterio.open(r'Extract Elevation from a DEM\\DEM.tif')\n",
    "    row,col=dem.index(longitude, latitude)\n",
    "    dem_data=dem.read(1)\n",
    "    \n",
    "    print('The elevation of '+ name + \": \" +  str(dem_data[row,col]) + ' meters')\n",
    "    \n",
    "    # Add the elevation values to the 'stations' geodataframe\n",
    "    stations['elevations'].loc[index]=dem_data[row,col]"
   ]
  },
  {
   "cell_type": "code",
   "execution_count": 27,
   "id": "e8df61f1-ff3f-4729-a485-513c9aab5fa7",
   "metadata": {},
   "outputs": [],
   "source": [
    "# Saving the infomation into a csv file \n",
    "elevations=stations[['name','elevations']]\n",
    "elevations.to_csv('topographic_elevations.csv')"
   ]
  },
  {
   "cell_type": "code",
   "execution_count": 36,
   "id": "c40dc8a5-9a35-43b8-ad58-4c3ed55a9eb3",
   "metadata": {},
   "outputs": [
    {
     "data": {
      "text/html": [
       "<div>\n",
       "<style scoped>\n",
       "    .dataframe tbody tr th:only-of-type {\n",
       "        vertical-align: middle;\n",
       "    }\n",
       "\n",
       "    .dataframe tbody tr th {\n",
       "        vertical-align: top;\n",
       "    }\n",
       "\n",
       "    .dataframe thead th {\n",
       "        text-align: right;\n",
       "    }\n",
       "</style>\n",
       "<table border=\"1\" class=\"dataframe\">\n",
       "  <thead>\n",
       "    <tr style=\"text-align: right;\">\n",
       "      <th></th>\n",
       "      <th>name</th>\n",
       "      <th>elevations</th>\n",
       "    </tr>\n",
       "  </thead>\n",
       "  <tbody>\n",
       "    <tr>\n",
       "      <th>0</th>\n",
       "      <td>station1</td>\n",
       "      <td>2570</td>\n",
       "    </tr>\n",
       "    <tr>\n",
       "      <th>1</th>\n",
       "      <td>station2</td>\n",
       "      <td>204</td>\n",
       "    </tr>\n",
       "    <tr>\n",
       "      <th>2</th>\n",
       "      <td>station3</td>\n",
       "      <td>191</td>\n",
       "    </tr>\n",
       "    <tr>\n",
       "      <th>3</th>\n",
       "      <td>station4</td>\n",
       "      <td>117</td>\n",
       "    </tr>\n",
       "    <tr>\n",
       "      <th>4</th>\n",
       "      <td>station5</td>\n",
       "      <td>774</td>\n",
       "    </tr>\n",
       "    <tr>\n",
       "      <th>5</th>\n",
       "      <td>station6</td>\n",
       "      <td>291</td>\n",
       "    </tr>\n",
       "    <tr>\n",
       "      <th>6</th>\n",
       "      <td>station7</td>\n",
       "      <td>49</td>\n",
       "    </tr>\n",
       "    <tr>\n",
       "      <th>7</th>\n",
       "      <td>station8</td>\n",
       "      <td>399</td>\n",
       "    </tr>\n",
       "    <tr>\n",
       "      <th>8</th>\n",
       "      <td>station9</td>\n",
       "      <td>82</td>\n",
       "    </tr>\n",
       "  </tbody>\n",
       "</table>\n",
       "</div>"
      ],
      "text/plain": [
       "       name  elevations\n",
       "0  station1        2570\n",
       "1  station2         204\n",
       "2  station3         191\n",
       "3  station4         117\n",
       "4  station5         774\n",
       "5  station6         291\n",
       "6  station7          49\n",
       "7  station8         399\n",
       "8  station9          82"
      ]
     },
     "execution_count": 36,
     "metadata": {},
     "output_type": "execute_result"
    }
   ],
   "source": [
    "elevation_df=pd.read_csv('topographic_elevations.csv')\n",
    "elevation_df.drop(columns=['Unnamed: 0'])"
   ]
  },
  {
   "cell_type": "code",
   "execution_count": null,
   "id": "fecbfe53-622a-45ab-a4d8-0e8dbb1ad14d",
   "metadata": {},
   "outputs": [],
   "source": []
  }
 ],
 "metadata": {
  "kernelspec": {
   "display_name": "Python 3 (ipykernel)",
   "language": "python",
   "name": "python3"
  },
  "language_info": {
   "codemirror_mode": {
    "name": "ipython",
    "version": 3
   },
   "file_extension": ".py",
   "mimetype": "text/x-python",
   "name": "python",
   "nbconvert_exporter": "python",
   "pygments_lexer": "ipython3",
   "version": "3.10.0"
  }
 },
 "nbformat": 4,
 "nbformat_minor": 5
}
